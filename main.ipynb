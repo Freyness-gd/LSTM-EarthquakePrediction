{
 "cells": [
  {
   "metadata": {},
   "cell_type": "markdown",
   "source": [
    "# LSTM Stress Level Classification\n",
    "\n"
   ],
   "id": "2a250d2806943cc3"
  },
  {
   "metadata": {
    "ExecuteTime": {
     "end_time": "2025-01-29T21:19:06.013988Z",
     "start_time": "2025-01-29T21:19:05.074491Z"
    }
   },
   "cell_type": "code",
   "source": [
    "# Import all packages\n",
    "\n",
    "import pandas as pd"
   ],
   "id": "a3de73fe5e6617d4",
   "outputs": [],
   "execution_count": 2
  },
  {
   "metadata": {
    "ExecuteTime": {
     "end_time": "2025-01-29T21:19:06.531999Z",
     "start_time": "2025-01-29T21:19:06.499012Z"
    }
   },
   "cell_type": "code",
   "source": [
    "# Load data set\n",
    "df = pd.read_csv(\"./data/estat_nrg_cb_em_en.csv\")"
   ],
   "id": "a75b4876d78c0c58",
   "outputs": [],
   "execution_count": 3
  },
  {
   "metadata": {
    "ExecuteTime": {
     "end_time": "2025-01-29T21:19:07.511495Z",
     "start_time": "2025-01-29T21:19:07.503659Z"
    }
   },
   "cell_type": "code",
   "source": "df.head()",
   "id": "1b7b1e2b3f3106ec",
   "outputs": [
    {
     "data": {
      "text/plain": [
       "               DATAFLOW        LAST UPDATE freq nrg_bal   siec unit geo  \\\n",
       "0  ESTAT:NRG_CB_EM(1.0)  17/01/25 23:00:00    M     AIM  E7000  GWH  AL   \n",
       "1  ESTAT:NRG_CB_EM(1.0)  17/01/25 23:00:00    M     AIM  E7000  GWH  AL   \n",
       "2  ESTAT:NRG_CB_EM(1.0)  17/01/25 23:00:00    M     AIM  E7000  GWH  AL   \n",
       "3  ESTAT:NRG_CB_EM(1.0)  17/01/25 23:00:00    M     AIM  E7000  GWH  AL   \n",
       "4  ESTAT:NRG_CB_EM(1.0)  17/01/25 23:00:00    M     AIM  E7000  GWH  AL   \n",
       "\n",
       "  TIME_PERIOD  OBS_VALUE OBS_FLAG  \n",
       "0     2018-01    588.340      NaN  \n",
       "1     2018-02    542.046      NaN  \n",
       "2     2018-03    564.343      NaN  \n",
       "3     2018-04    465.565      NaN  \n",
       "4     2018-05    476.886      NaN  "
      ],
      "text/html": [
       "<div>\n",
       "<style scoped>\n",
       "    .dataframe tbody tr th:only-of-type {\n",
       "        vertical-align: middle;\n",
       "    }\n",
       "\n",
       "    .dataframe tbody tr th {\n",
       "        vertical-align: top;\n",
       "    }\n",
       "\n",
       "    .dataframe thead th {\n",
       "        text-align: right;\n",
       "    }\n",
       "</style>\n",
       "<table border=\"1\" class=\"dataframe\">\n",
       "  <thead>\n",
       "    <tr style=\"text-align: right;\">\n",
       "      <th></th>\n",
       "      <th>DATAFLOW</th>\n",
       "      <th>LAST UPDATE</th>\n",
       "      <th>freq</th>\n",
       "      <th>nrg_bal</th>\n",
       "      <th>siec</th>\n",
       "      <th>unit</th>\n",
       "      <th>geo</th>\n",
       "      <th>TIME_PERIOD</th>\n",
       "      <th>OBS_VALUE</th>\n",
       "      <th>OBS_FLAG</th>\n",
       "    </tr>\n",
       "  </thead>\n",
       "  <tbody>\n",
       "    <tr>\n",
       "      <th>0</th>\n",
       "      <td>ESTAT:NRG_CB_EM(1.0)</td>\n",
       "      <td>17/01/25 23:00:00</td>\n",
       "      <td>M</td>\n",
       "      <td>AIM</td>\n",
       "      <td>E7000</td>\n",
       "      <td>GWH</td>\n",
       "      <td>AL</td>\n",
       "      <td>2018-01</td>\n",
       "      <td>588.340</td>\n",
       "      <td>NaN</td>\n",
       "    </tr>\n",
       "    <tr>\n",
       "      <th>1</th>\n",
       "      <td>ESTAT:NRG_CB_EM(1.0)</td>\n",
       "      <td>17/01/25 23:00:00</td>\n",
       "      <td>M</td>\n",
       "      <td>AIM</td>\n",
       "      <td>E7000</td>\n",
       "      <td>GWH</td>\n",
       "      <td>AL</td>\n",
       "      <td>2018-02</td>\n",
       "      <td>542.046</td>\n",
       "      <td>NaN</td>\n",
       "    </tr>\n",
       "    <tr>\n",
       "      <th>2</th>\n",
       "      <td>ESTAT:NRG_CB_EM(1.0)</td>\n",
       "      <td>17/01/25 23:00:00</td>\n",
       "      <td>M</td>\n",
       "      <td>AIM</td>\n",
       "      <td>E7000</td>\n",
       "      <td>GWH</td>\n",
       "      <td>AL</td>\n",
       "      <td>2018-03</td>\n",
       "      <td>564.343</td>\n",
       "      <td>NaN</td>\n",
       "    </tr>\n",
       "    <tr>\n",
       "      <th>3</th>\n",
       "      <td>ESTAT:NRG_CB_EM(1.0)</td>\n",
       "      <td>17/01/25 23:00:00</td>\n",
       "      <td>M</td>\n",
       "      <td>AIM</td>\n",
       "      <td>E7000</td>\n",
       "      <td>GWH</td>\n",
       "      <td>AL</td>\n",
       "      <td>2018-04</td>\n",
       "      <td>465.565</td>\n",
       "      <td>NaN</td>\n",
       "    </tr>\n",
       "    <tr>\n",
       "      <th>4</th>\n",
       "      <td>ESTAT:NRG_CB_EM(1.0)</td>\n",
       "      <td>17/01/25 23:00:00</td>\n",
       "      <td>M</td>\n",
       "      <td>AIM</td>\n",
       "      <td>E7000</td>\n",
       "      <td>GWH</td>\n",
       "      <td>AL</td>\n",
       "      <td>2018-05</td>\n",
       "      <td>476.886</td>\n",
       "      <td>NaN</td>\n",
       "    </tr>\n",
       "  </tbody>\n",
       "</table>\n",
       "</div>"
      ]
     },
     "execution_count": 4,
     "metadata": {},
     "output_type": "execute_result"
    }
   ],
   "execution_count": 4
  },
  {
   "metadata": {
    "ExecuteTime": {
     "end_time": "2025-01-29T21:19:08.398164Z",
     "start_time": "2025-01-29T21:19:08.385651Z"
    }
   },
   "cell_type": "code",
   "source": "df.info()",
   "id": "408a41e16479663a",
   "outputs": [
    {
     "name": "stdout",
     "output_type": "stream",
     "text": [
      "<class 'pandas.core.frame.DataFrame'>\n",
      "RangeIndex: 35864 entries, 0 to 35863\n",
      "Data columns (total 10 columns):\n",
      " #   Column       Non-Null Count  Dtype  \n",
      "---  ------       --------------  -----  \n",
      " 0   DATAFLOW     35864 non-null  object \n",
      " 1   LAST UPDATE  35864 non-null  object \n",
      " 2   freq         35864 non-null  object \n",
      " 3   nrg_bal      35864 non-null  object \n",
      " 4   siec         35864 non-null  object \n",
      " 5   unit         35864 non-null  object \n",
      " 6   geo          35864 non-null  object \n",
      " 7   TIME_PERIOD  35864 non-null  object \n",
      " 8   OBS_VALUE    35788 non-null  float64\n",
      " 9   OBS_FLAG     838 non-null    object \n",
      "dtypes: float64(1), object(9)\n",
      "memory usage: 2.7+ MB\n"
     ]
    }
   ],
   "execution_count": 5
  },
  {
   "metadata": {
    "ExecuteTime": {
     "end_time": "2025-01-29T21:19:10.053144Z",
     "start_time": "2025-01-29T21:19:10.049185Z"
    }
   },
   "cell_type": "code",
   "source": "df.drop(['DATAFLOW', 'LAST UPDATE', 'freq', 'nrg_bal', 'siec', 'OBS_FLAG'], axis=1, inplace=True)",
   "id": "bb80232dab6aaf7c",
   "outputs": [],
   "execution_count": 6
  },
  {
   "metadata": {
    "ExecuteTime": {
     "end_time": "2025-01-19T19:52:25.651115Z",
     "start_time": "2025-01-19T19:52:25.644953Z"
    }
   },
   "cell_type": "code",
   "source": "df.head()",
   "id": "a8681c245b7ff3f4",
   "outputs": [
    {
     "data": {
      "text/plain": [
       "  unit geo TIME_PERIOD  OBS_VALUE\n",
       "0  GWH  AL     2018-01    588.340\n",
       "1  GWH  AL     2018-02    542.046\n",
       "2  GWH  AL     2018-03    564.343\n",
       "3  GWH  AL     2018-04    465.565\n",
       "4  GWH  AL     2018-05    476.886"
      ],
      "text/html": [
       "<div>\n",
       "<style scoped>\n",
       "    .dataframe tbody tr th:only-of-type {\n",
       "        vertical-align: middle;\n",
       "    }\n",
       "\n",
       "    .dataframe tbody tr th {\n",
       "        vertical-align: top;\n",
       "    }\n",
       "\n",
       "    .dataframe thead th {\n",
       "        text-align: right;\n",
       "    }\n",
       "</style>\n",
       "<table border=\"1\" class=\"dataframe\">\n",
       "  <thead>\n",
       "    <tr style=\"text-align: right;\">\n",
       "      <th></th>\n",
       "      <th>unit</th>\n",
       "      <th>geo</th>\n",
       "      <th>TIME_PERIOD</th>\n",
       "      <th>OBS_VALUE</th>\n",
       "    </tr>\n",
       "  </thead>\n",
       "  <tbody>\n",
       "    <tr>\n",
       "      <th>0</th>\n",
       "      <td>GWH</td>\n",
       "      <td>AL</td>\n",
       "      <td>2018-01</td>\n",
       "      <td>588.340</td>\n",
       "    </tr>\n",
       "    <tr>\n",
       "      <th>1</th>\n",
       "      <td>GWH</td>\n",
       "      <td>AL</td>\n",
       "      <td>2018-02</td>\n",
       "      <td>542.046</td>\n",
       "    </tr>\n",
       "    <tr>\n",
       "      <th>2</th>\n",
       "      <td>GWH</td>\n",
       "      <td>AL</td>\n",
       "      <td>2018-03</td>\n",
       "      <td>564.343</td>\n",
       "    </tr>\n",
       "    <tr>\n",
       "      <th>3</th>\n",
       "      <td>GWH</td>\n",
       "      <td>AL</td>\n",
       "      <td>2018-04</td>\n",
       "      <td>465.565</td>\n",
       "    </tr>\n",
       "    <tr>\n",
       "      <th>4</th>\n",
       "      <td>GWH</td>\n",
       "      <td>AL</td>\n",
       "      <td>2018-05</td>\n",
       "      <td>476.886</td>\n",
       "    </tr>\n",
       "  </tbody>\n",
       "</table>\n",
       "</div>"
      ]
     },
     "execution_count": 15,
     "metadata": {},
     "output_type": "execute_result"
    }
   ],
   "execution_count": 15
  },
  {
   "metadata": {
    "ExecuteTime": {
     "end_time": "2025-01-19T19:52:31.980132Z",
     "start_time": "2025-01-19T19:52:31.972131Z"
    }
   },
   "cell_type": "code",
   "source": "df.info()",
   "id": "f8237ae6b5098e13",
   "outputs": [
    {
     "name": "stdout",
     "output_type": "stream",
     "text": [
      "<class 'pandas.core.frame.DataFrame'>\n",
      "RangeIndex: 35864 entries, 0 to 35863\n",
      "Data columns (total 4 columns):\n",
      " #   Column       Non-Null Count  Dtype  \n",
      "---  ------       --------------  -----  \n",
      " 0   unit         35864 non-null  object \n",
      " 1   geo          35864 non-null  object \n",
      " 2   TIME_PERIOD  35864 non-null  object \n",
      " 3   OBS_VALUE    35788 non-null  float64\n",
      "dtypes: float64(1), object(3)\n",
      "memory usage: 1.1+ MB\n"
     ]
    }
   ],
   "execution_count": 16
  },
  {
   "metadata": {
    "ExecuteTime": {
     "end_time": "2025-01-29T21:19:25.699379Z",
     "start_time": "2025-01-29T21:19:25.693044Z"
    }
   },
   "cell_type": "code",
   "source": "df.isna().sum()",
   "id": "242bca0cbdc74ab3",
   "outputs": [
    {
     "data": {
      "text/plain": [
       "unit            0\n",
       "geo             0\n",
       "TIME_PERIOD     0\n",
       "OBS_VALUE      76\n",
       "dtype: int64"
      ]
     },
     "execution_count": 7,
     "metadata": {},
     "output_type": "execute_result"
    }
   ],
   "execution_count": 7
  },
  {
   "metadata": {},
   "cell_type": "code",
   "outputs": [],
   "execution_count": null,
   "source": "",
   "id": "8f1e05201f16e34"
  }
 ],
 "metadata": {
  "kernelspec": {
   "display_name": "Python 3",
   "language": "python",
   "name": "python3"
  },
  "language_info": {
   "codemirror_mode": {
    "name": "ipython",
    "version": 2
   },
   "file_extension": ".py",
   "mimetype": "text/x-python",
   "name": "python",
   "nbconvert_exporter": "python",
   "pygments_lexer": "ipython2",
   "version": "2.7.6"
  }
 },
 "nbformat": 4,
 "nbformat_minor": 5
}
